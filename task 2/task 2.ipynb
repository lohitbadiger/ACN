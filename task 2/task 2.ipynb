{
 "cells": [
  {
   "cell_type": "code",
   "execution_count": 19,
   "metadata": {},
   "outputs": [
    {
     "name": "stdout",
     "output_type": "stream",
     "text": [
      "168\n",
      "17\n",
      "29\n",
      "5\n",
      "0\n",
      "0\n",
      "13\n",
      "24\n",
      "9\n"
     ]
    }
   ],
   "source": [
    "# Import required packages \n",
    "import cv2 \n",
    "import pytesseract \n",
    "  \n",
    "# Mention the installed location of Tesseract-OCR in your system \n",
    "pytesseract.pytesseract.tesseract_cmd = r'C:\\\\Program Files (x86)\\\\Tesseract-OCR\\\\tesseract.exe'\n",
    "\n",
    "  \n",
    "# Read image from which text needs to be extracted \n",
    "img = cv2.imread(\"TASK2.png\") \n",
    "  \n",
    "# Preprocessing the image starts \n",
    "  \n",
    "# Convert the image to gray scale \n",
    "gray = cv2.cvtColor(img, cv2.COLOR_BGR2GRAY) \n",
    "  \n",
    "# Performing OTSU threshold \n",
    "ret, thresh1 = cv2.threshold(gray, 0, 255, cv2.THRESH_OTSU | cv2.THRESH_BINARY_INV) \n",
    "  \n",
    "# Specify structure shape and kernel size.  \n",
    "# Kernel size increases or decreases the area  \n",
    "# of the rectangle to be detected. \n",
    "# A smaller value like (10, 10) will detect  \n",
    "# each word instead of a sentence. \n",
    "rect_kernel = cv2.getStructuringElement(cv2.MORPH_RECT, (18, 18)) \n",
    "  \n",
    "# Appplying dilation on the threshold image \n",
    "dilation = cv2.dilate(thresh1, rect_kernel, iterations = 1) \n",
    "  \n",
    "# Finding contours \n",
    "contours, hierarchy = cv2.findContours(dilation, cv2.RETR_EXTERNAL,  \n",
    "                                                 cv2.CHAIN_APPROX_NONE) \n",
    "  \n",
    "# Creating a copy of image \n",
    "im2 = img.copy() \n",
    "  \n",
    "# A text file is created and flushed \n",
    "file = open(\"recognized.txt\", \"w+\") \n",
    "file.write(\"\") \n",
    "file.close() \n",
    "  \n",
    "# Looping through the identified contours \n",
    "# Then rectangular part is cropped and passed on \n",
    "# to pytesseract for extracting text from it \n",
    "# Extracted text is then written into the text file \n",
    "for cnt in contours: \n",
    "    x, y, w, h = cv2.boundingRect(cnt) \n",
    "      \n",
    "    # Drawing a rectangle on copied image \n",
    "    rect = cv2.rectangle(im2, (x, y), (x + w, y + h), (0, 255, 0), 2) \n",
    "      \n",
    "    # Cropping the text block for giving input to OCR \n",
    "    cropped = im2[y:y + h, x:x + w] \n",
    "      \n",
    "    # Open the file in append mode \n",
    "    file = open(\"recognized.txt\", \"a\") \n",
    "      \n",
    "    # Apply OCR on the cropped image \n",
    "    text = pytesseract.image_to_string(cropped) \n",
    "      \n",
    "    filename='data.csv'\n",
    "    f=open(filename,'w')\n",
    "\n",
    "    print(f.write(text))\n",
    "\n",
    "    f.close()\n"
   ]
  },
  {
   "cell_type": "code",
   "execution_count": null,
   "metadata": {},
   "outputs": [],
   "source": [
    "# Import required packages \n",
    "from PIL import Image\n",
    "import pytesseract   \n",
    "pytesseract.pytesseract.tesseract_cmd = r'C:\\\\Program Files (x86)\\\\Tesseract-OCR\\\\tesseract.exe'\n",
    "\n",
    "image=Image.open('TASK2.png')\n",
    "text=pytesseract.image_to_string(image)\n",
    "# print(text)\n",
    "\n",
    "filename='data.csv'\n",
    "f=open(filename,'w')\n",
    "\n",
    "print(f.write(text))\n",
    "\n",
    "f.close()\n",
    "\n"
   ]
  }
 ],
 "metadata": {
  "kernelspec": {
   "display_name": "Python 3.8.0 32-bit",
   "language": "python",
   "name": "python38032bit08d713b04acb4a228b6f0f6c787e51e2"
  },
  "language_info": {
   "codemirror_mode": {
    "name": "ipython",
    "version": 3
   },
   "file_extension": ".py",
   "mimetype": "text/x-python",
   "name": "python",
   "nbconvert_exporter": "python",
   "pygments_lexer": "ipython3",
   "version": "3.8.0"
  }
 },
 "nbformat": 4,
 "nbformat_minor": 2
}
